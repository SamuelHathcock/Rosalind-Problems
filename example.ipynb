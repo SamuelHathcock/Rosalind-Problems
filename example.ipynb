{
 "metadata": {
  "language_info": {
   "codemirror_mode": {
    "name": "ipython",
    "version": 3
   },
   "file_extension": ".py",
   "mimetype": "text/x-python",
   "name": "python",
   "nbconvert_exporter": "python",
   "pygments_lexer": "ipython3",
   "version": "3.8.5"
  },
  "orig_nbformat": 4,
  "kernelspec": {
   "name": "python3",
   "display_name": "Python 3.8.5 64-bit ('base': conda)"
  },
  "interpreter": {
   "hash": "ec90d39ff171a9d47df0657883a87d263f1f1648fb347dec9230a7af0b703619"
  }
 },
 "nbformat": 4,
 "nbformat_minor": 2,
 "cells": [
  {
   "cell_type": "code",
   "execution_count": 4,
   "metadata": {},
   "outputs": [
    {
     "output_type": "stream",
     "name": "stdout",
     "text": [
      "\u001b[0;0m[\u001b[0;0m2\u001b[0;0m]\u001b[0;0m \u001b[0;0m+\u001b[0;0m \u001b[0;0mN\u001b[0;0mu\u001b[0;0mc\u001b[0;0ml\u001b[0;0me\u001b[0;0mo\u001b[0;0mt\u001b[0;0mi\u001b[0;0md\u001b[0;0me\u001b[0;0m \u001b[0;0mF\u001b[0;0mr\u001b[0;0me\u001b[0;0mq\u001b[0;0mu\u001b[0;0me\u001b[0;0mn\u001b[0;0mc\u001b[0;0my\u001b[0;0m:\u001b[0;0m \u001b[0;0m{\u001b[0;0m'\u001b[92mA\u001b[0;0m'\u001b[0;0m:\u001b[0;0m \u001b[0;0m2\u001b[0;0m,\u001b[0;0m \u001b[0;0m'\u001b[94mC\u001b[0;0m'\u001b[0;0m:\u001b[0;0m \u001b[0;0m5\u001b[0;0m,\u001b[0;0m \u001b[0;0m'\u001b[93mG\u001b[0;0m'\u001b[0;0m:\u001b[0;0m \u001b[0;0m2\u001b[0;0m,\u001b[0;0m \u001b[0;0m'\u001b[91mT\u001b[0;0m'\u001b[0;0m:\u001b[0;0m \u001b[0;0m5\u001b[0;0m}\u001b[0;0m\n\u001b[0;0m\n"
     ]
    }
   ],
   "source": [
    "from utilities import *\n",
    "from DNAToolkit import *\n",
    "\n",
    "data = \"ATGCCCGCCTATTT\"\n",
    "\n",
    "print(colored(f'[2] + Nucleotide Frequency: {countNucFrequency(data)}\\n'))\n"
   ]
  }
 ]
}